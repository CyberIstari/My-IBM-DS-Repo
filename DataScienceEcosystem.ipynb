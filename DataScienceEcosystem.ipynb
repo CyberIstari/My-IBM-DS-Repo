{
 "cells": [
  {
   "cell_type": "markdown",
   "id": "11a23f0c-6d8a-44fb-9cea-c89779ca62ab",
   "metadata": {},
   "source": [
    "# Data Science Tools and Ecosystem"
   ]
  },
  {
   "cell_type": "markdown",
   "id": "9ab30cf8-4e70-4089-a7f5-c704ab8b43b8",
   "metadata": {},
   "source": [
    "## Author\n",
    "Leslie C. McBride"
   ]
  },
  {
   "cell_type": "markdown",
   "id": "b053635d-d136-4f2a-b4c2-c5a6cee746ac",
   "metadata": {
    "tags": []
   },
   "source": [
    "In this notebook, Data Science Tools and Ecosystem are summarized."
   ]
  },
  {
   "cell_type": "markdown",
   "id": "b49a2eed-1f5f-4cba-9eae-a82ca456e998",
   "metadata": {},
   "source": [
    "**Objectives:**\n",
    "\n",
    "* List languages used for data science\n",
    "* List three open-source development environments used for data science\n",
    "* Show examples of arithmetic expressions in a programming language popular for data science (Python)"
   ]
  },
  {
   "cell_type": "markdown",
   "id": "ad581314-ce76-4995-91f0-beb8b92cd041",
   "metadata": {},
   "source": [
    "Some of the popular languages that Data Scientists use are:\n",
    "\n",
    "1. Python\n",
    "2. R\n",
    "3. SQL\n",
    "4. Scala\n",
    "5. Java\n",
    "6. C++\n",
    "7. Julia"
   ]
  },
  {
   "cell_type": "markdown",
   "id": "5c6f2822-f0ca-4119-bbaa-0672002207b8",
   "metadata": {},
   "source": [
    "|Data Science Tools|\n",
    "|:------------------|\n",
    "|Jupyter Notebooks|\n",
    "|RStudio|\n",
    "|Spyder|"
   ]
  },
  {
   "cell_type": "markdown",
   "id": "a71724bc-cd2c-4611-af48-b696ed4d8796",
   "metadata": {},
   "source": [
    "### Below are a few examples of evaluating arithmetic expressions in Python"
   ]
  },
  {
   "cell_type": "code",
   "execution_count": 2,
   "id": "9808ad91-eb4a-428f-8c99-c39a15b2a7e5",
   "metadata": {
    "tags": []
   },
   "outputs": [
    {
     "data": {
      "text/plain": [
       "17"
      ]
     },
     "execution_count": 2,
     "metadata": {},
     "output_type": "execute_result"
    }
   ],
   "source": [
    "# This a simple arithmetic expression to mutiply then add integers\n",
    "\n",
    "(3*4)+5"
   ]
  },
  {
   "cell_type": "code",
   "execution_count": 3,
   "id": "c361bcd2-ed9c-4ff3-b060-0f6bd726308f",
   "metadata": {
    "tags": []
   },
   "outputs": [
    {
     "data": {
      "text/plain": [
       "3.3333333333333335"
      ]
     },
     "execution_count": 3,
     "metadata": {},
     "output_type": "execute_result"
    }
   ],
   "source": [
    "# This will convert 200 minutes to hours by diving by 60\n",
    "\n",
    "200/60"
   ]
  }
 ],
 "metadata": {
  "kernelspec": {
   "display_name": "Python",
   "language": "python",
   "name": "conda-env-python-py"
  },
  "language_info": {
   "codemirror_mode": {
    "name": "ipython",
    "version": 3
   },
   "file_extension": ".py",
   "mimetype": "text/x-python",
   "name": "python",
   "nbconvert_exporter": "python",
   "pygments_lexer": "ipython3",
   "version": "3.7.12"
  }
 },
 "nbformat": 4,
 "nbformat_minor": 5
}
